{
 "cells": [
  {
   "cell_type": "markdown",
   "metadata": {},
   "source": [
    "# FIFA 21 PROJECT (III)\n",
    "\n",
    "<br><br>\n",
    "\n",
    "Now you will work only in the `group jupyter notebook`.\n",
    "\n",
    "It is s time to train a linear model and save it. Please take a look to the following [resource](https://machinelearningmastery.com/save-load-machine-learning-models-python-scikit-learn/) to know how to do it.\n",
    "\n",
    "In addition you will need to create functions to make predictions with your group model and to evaluate the model's results on your `group jupyter notebook`.\n",
    "\n",
    "Later, the LT will pick your `group jupyter notebook`, it will load another dataset and it will apply/call your functions to clean the dataset, make predictions with your model and then evaluate your group model into the new unseen data."
   ]
  },
  {
   "cell_type": "code",
   "execution_count": 1,
   "metadata": {},
   "outputs": [
    {
     "name": "stdout",
     "output_type": "stream",
     "text": [
      "Enter player name: mbappe\n",
      "Enter player position [Forward / Midfield / Defense]: Midfield\n",
      "Enter pace: 85\n",
      "Enter shooting: 85\n",
      "Enter passing: 84\n",
      "Enter dribbling: 83\n",
      "Enter defending: 80\n",
      "Enter physical: 90\n",
      "\n",
      "Overall score for mbappe: 84\n"
     ]
    }
   ],
   "source": [
    "pName = input(\"Enter player name: \")\n",
    "pos = input(\"Enter player position [Forward / Midfield / Defense]: \")\n",
    "\n",
    "paceWeight, shootingWeight, passingWeight, dribblingWeight, defenseWeight, physicalWeight = 0, 0 , 0 , 0 , 0 , 0\n",
    "\n",
    "if pos == \"Forward\":\n",
    "  paceWeight = 0.3\n",
    "  shootingWeight = 0.25\n",
    "  passingWeight = 0.1\n",
    "  dribblingWeight = 0.25\n",
    "  defenseWeight = 0.03\n",
    "  physicalWeight = 0.07\n",
    "elif pos == \"Midfield\":\n",
    "  paceWeight = 0.1\n",
    "  shootingWeight = 0.15\n",
    "  passingWeight = 0.35\n",
    "  dribblingWeight = 0.2\n",
    "  defenseWeight = 0.1\n",
    "  physicalWeight = 0.1\n",
    "elif pos == \"Defense\":\n",
    "  paceWeight = 0.05\n",
    "  shootingWeight = 0.05\n",
    "  passingWeight = 0.1\n",
    "  dribblingWeight = 0.1\n",
    "  defenseWeight = 0.4\n",
    "  physicalWeight = 0.3\n",
    "else:\n",
    "  print(\"Invalid position\")\n",
    "  \n",
    "if pos == \"Forward\" or pos == \"Midfield\" or pos == \"Defense\":\n",
    "  pace = int(input(\"Enter pace: \"))\n",
    "  shooting = int(input(\"Enter shooting: \"))\n",
    "  passing = int(input(\"Enter passing: \"))\n",
    "  dribbling = int(input(\"Enter dribbling: \"))\n",
    "  defending = int(input(\"Enter defending: \"))\n",
    "  physical = int(input(\"Enter physical: \"))\n",
    "  \n",
    "  overall = int(round(pace * paceWeight + shooting * shootingWeight + passing * passingWeight +\n",
    "  dribbling * dribblingWeight + defending * defenseWeight + physical * physicalWeight))\n",
    "  \n",
    "print(\"\\nOverall score for %s: %d\" %(pName, overall))"
   ]
  },
  {
   "cell_type": "code",
   "execution_count": null,
   "metadata": {},
   "outputs": [],
   "source": []
  }
 ],
 "metadata": {
  "kernelspec": {
   "display_name": "Python 3 (ipykernel)",
   "language": "python",
   "name": "python3"
  },
  "language_info": {
   "codemirror_mode": {
    "name": "ipython",
    "version": 3
   },
   "file_extension": ".py",
   "mimetype": "text/x-python",
   "name": "python",
   "nbconvert_exporter": "python",
   "pygments_lexer": "ipython3",
   "version": "3.9.12"
  }
 },
 "nbformat": 4,
 "nbformat_minor": 4
}
