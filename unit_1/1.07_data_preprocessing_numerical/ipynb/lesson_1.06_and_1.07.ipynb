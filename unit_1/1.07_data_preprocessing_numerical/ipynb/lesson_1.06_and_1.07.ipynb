{
 "cells": [
  {
   "cell_type": "markdown",
   "metadata": {},
   "source": [
    "# Lesson 1.6 "
   ]
  },
  {
   "cell_type": "code",
   "execution_count": 1,
   "metadata": {},
   "outputs": [],
   "source": [
    "import pandas as pd\n",
    "import numpy as np\n",
    "pd.set_option('display.max_columns', None)\n",
    "import warnings\n",
    "warnings.filterwarnings('ignore')\n",
    "import matplotlib.pyplot as plt\n",
    "import seaborn as sns \n",
    "%matplotlib inline"
   ]
  },
  {
   "cell_type": "markdown",
   "metadata": {},
   "source": [
    "# Lesson 1"
   ]
  },
  {
   "cell_type": "code",
   "execution_count": null,
   "metadata": {},
   "outputs": [],
   "source": [
    "plt.hist(np.random.randn(10000), bins=40)\n",
    "plt.show()"
   ]
  },
  {
   "cell_type": "code",
   "execution_count": null,
   "metadata": {},
   "outputs": [],
   "source": [
    "from scipy.stats import norm\n",
    "import math\n",
    "normal = norm(0, math.sqrt(9)) \n",
    "# print(normal.pdf(4))\n",
    "# print(normal.cdf(2))       \n",
    "# print(normal.rvs()) \n",
    "fig, ax = plt.subplots(1, 1)\n",
    "x = np.linspace(-3,3,1000)\n",
    "y = norm.pdf(x)\n",
    "ax.plot(x,y)\n",
    "plt.show()"
   ]
  },
  {
   "cell_type": "code",
   "execution_count": null,
   "metadata": {},
   "outputs": [],
   "source": []
  },
  {
   "cell_type": "code",
   "execution_count": 1,
   "metadata": {},
   "outputs": [],
   "source": [
    "# Lesson 2 Intro to Machine Learning "
   ]
  },
  {
   "cell_type": "code",
   "execution_count": null,
   "metadata": {},
   "outputs": [],
   "source": []
  },
  {
   "cell_type": "code",
   "execution_count": null,
   "metadata": {},
   "outputs": [],
   "source": []
  },
  {
   "cell_type": "markdown",
   "metadata": {},
   "source": [
    "# Lesson 2"
   ]
  },
  {
   "cell_type": "code",
   "execution_count": 2,
   "metadata": {},
   "outputs": [],
   "source": [
    "from sklearn import linear_model\n",
    "from sklearn.metrics import mean_squared_error, r2_score"
   ]
  },
  {
   "cell_type": "code",
   "execution_count": 3,
   "metadata": {},
   "outputs": [],
   "source": [
    "# apply linear regression on the following data"
   ]
  },
  {
   "cell_type": "code",
   "execution_count": 4,
   "metadata": {},
   "outputs": [],
   "source": [
    "data = pd.read_csv('regression_data1.csv')"
   ]
  },
  {
   "cell_type": "code",
   "execution_count": 5,
   "metadata": {},
   "outputs": [
    {
     "data": {
      "text/html": [
       "<div>\n",
       "<style scoped>\n",
       "    .dataframe tbody tr th:only-of-type {\n",
       "        vertical-align: middle;\n",
       "    }\n",
       "\n",
       "    .dataframe tbody tr th {\n",
       "        vertical-align: top;\n",
       "    }\n",
       "\n",
       "    .dataframe thead th {\n",
       "        text-align: right;\n",
       "    }\n",
       "</style>\n",
       "<table border=\"1\" class=\"dataframe\">\n",
       "  <thead>\n",
       "    <tr style=\"text-align: right;\">\n",
       "      <th></th>\n",
       "      <th>HV1</th>\n",
       "      <th>IC1</th>\n",
       "      <th>IC2</th>\n",
       "      <th>IC3</th>\n",
       "      <th>IC4</th>\n",
       "      <th>IC5</th>\n",
       "      <th>AVGGIFT</th>\n",
       "      <th>TARGET_D</th>\n",
       "    </tr>\n",
       "  </thead>\n",
       "  <tbody>\n",
       "    <tr>\n",
       "      <th>0</th>\n",
       "      <td>2346</td>\n",
       "      <td>420</td>\n",
       "      <td>446</td>\n",
       "      <td>468</td>\n",
       "      <td>503</td>\n",
       "      <td>14552</td>\n",
       "      <td>15.500000</td>\n",
       "      <td>21.0</td>\n",
       "    </tr>\n",
       "    <tr>\n",
       "      <th>1</th>\n",
       "      <td>497</td>\n",
       "      <td>350</td>\n",
       "      <td>364</td>\n",
       "      <td>357</td>\n",
       "      <td>384</td>\n",
       "      <td>11696</td>\n",
       "      <td>3.080000</td>\n",
       "      <td>3.0</td>\n",
       "    </tr>\n",
       "    <tr>\n",
       "      <th>2</th>\n",
       "      <td>1229</td>\n",
       "      <td>469</td>\n",
       "      <td>502</td>\n",
       "      <td>507</td>\n",
       "      <td>544</td>\n",
       "      <td>17313</td>\n",
       "      <td>7.500000</td>\n",
       "      <td>20.0</td>\n",
       "    </tr>\n",
       "    <tr>\n",
       "      <th>3</th>\n",
       "      <td>325</td>\n",
       "      <td>148</td>\n",
       "      <td>181</td>\n",
       "      <td>171</td>\n",
       "      <td>209</td>\n",
       "      <td>6334</td>\n",
       "      <td>6.700000</td>\n",
       "      <td>5.0</td>\n",
       "    </tr>\n",
       "    <tr>\n",
       "      <th>4</th>\n",
       "      <td>768</td>\n",
       "      <td>174</td>\n",
       "      <td>201</td>\n",
       "      <td>220</td>\n",
       "      <td>249</td>\n",
       "      <td>7802</td>\n",
       "      <td>8.785714</td>\n",
       "      <td>10.0</td>\n",
       "    </tr>\n",
       "  </tbody>\n",
       "</table>\n",
       "</div>"
      ],
      "text/plain": [
       "    HV1  IC1  IC2  IC3  IC4    IC5    AVGGIFT  TARGET_D\n",
       "0  2346  420  446  468  503  14552  15.500000      21.0\n",
       "1   497  350  364  357  384  11696   3.080000       3.0\n",
       "2  1229  469  502  507  544  17313   7.500000      20.0\n",
       "3   325  148  181  171  209   6334   6.700000       5.0\n",
       "4   768  174  201  220  249   7802   8.785714      10.0"
      ]
     },
     "execution_count": 5,
     "metadata": {},
     "output_type": "execute_result"
    }
   ],
   "source": [
    "data.head()"
   ]
  },
  {
   "cell_type": "code",
   "execution_count": 6,
   "metadata": {},
   "outputs": [
    {
     "name": "stdout",
     "output_type": "stream",
     "text": [
      "                            OLS Regression Results                            \n",
      "==============================================================================\n",
      "Dep. Variable:               TARGET_D   R-squared:                       0.272\n",
      "Model:                            OLS   Adj. R-squared:                  0.271\n",
      "Method:                 Least Squares   F-statistic:                     258.2\n",
      "Date:                Thu, 18 Jun 2020   Prob (F-statistic):               0.00\n",
      "Time:                        13:41:20   Log-Likelihood:                -18313.\n",
      "No. Observations:                4843   AIC:                         3.664e+04\n",
      "Df Residuals:                    4835   BIC:                         3.669e+04\n",
      "Df Model:                           7                                         \n",
      "Covariance Type:            nonrobust                                         \n",
      "==============================================================================\n",
      "                 coef    std err          t      P>|t|      [0.025      0.975]\n",
      "------------------------------------------------------------------------------\n",
      "const          6.2092      0.503     12.346      0.000       5.223       7.195\n",
      "HV1         9.693e-05      0.000      0.417      0.677      -0.000       0.001\n",
      "IC1           -0.0020      0.007     -0.306      0.759      -0.015       0.011\n",
      "IC2         9.846e-05      0.006      0.017      0.986      -0.011       0.011\n",
      "IC3           -0.0022      0.009     -0.248      0.804      -0.020       0.015\n",
      "IC4            0.0067      0.008      0.895      0.371      -0.008       0.021\n",
      "IC5         3.092e-05   3.56e-05      0.869      0.385   -3.88e-05       0.000\n",
      "AVGGIFT        0.6211      0.015     40.799      0.000       0.591       0.651\n",
      "==============================================================================\n",
      "Omnibus:                     3372.304   Durbin-Watson:                   2.061\n",
      "Prob(Omnibus):                  0.000   Jarque-Bera (JB):          4377337.881\n",
      "Skew:                           1.854   Prob(JB):                         0.00\n",
      "Kurtosis:                     150.237   Cond. No.                     6.29e+04\n",
      "==============================================================================\n",
      "\n",
      "Warnings:\n",
      "[1] Standard Errors assume that the covariance matrix of the errors is correctly specified.\n",
      "[2] The condition number is large, 6.29e+04. This might indicate that there are\n",
      "strong multicollinearity or other numerical problems.\n"
     ]
    }
   ],
   "source": [
    "import statsmodels.api as sm\n",
    "from statsmodels.formula.api import ols\n",
    "Y = data['TARGET_D']\n",
    "X = data.drop(['TARGET_D'], axis=1)\n",
    "X = sm.add_constant(X)\n",
    "model = sm.OLS(Y,X).fit()\n",
    "print(model.summary())"
   ]
  },
  {
   "cell_type": "code",
   "execution_count": null,
   "metadata": {},
   "outputs": [],
   "source": []
  },
  {
   "cell_type": "code",
   "execution_count": null,
   "metadata": {},
   "outputs": [],
   "source": [
    "from sklearn import linear_model\n",
    "from sklearn.metrics import mean_squared_error, r2_score\n",
    "Y = reg_data['TARGET_D']\n",
    "X = reg_data.drop(['TARGET_D'], axis=1)\n",
    "lm = linear_model.LinearRegression()\n",
    "model = lm.fit(X,Y)\n",
    "lm.score(X,Y)"
   ]
  },
  {
   "cell_type": "code",
   "execution_count": null,
   "metadata": {},
   "outputs": [],
   "source": [
    "r2_score(Y, predictions)"
   ]
  },
  {
   "cell_type": "code",
   "execution_count": null,
   "metadata": {},
   "outputs": [],
   "source": [
    "lm.intercept_"
   ]
  },
  {
   "cell_type": "code",
   "execution_count": null,
   "metadata": {},
   "outputs": [],
   "source": [
    "lm.coef_"
   ]
  },
  {
   "cell_type": "code",
   "execution_count": null,
   "metadata": {},
   "outputs": [],
   "source": [
    "predictions  = lm.predict(X)"
   ]
  },
  {
   "cell_type": "code",
   "execution_count": null,
   "metadata": {},
   "outputs": [],
   "source": [
    "# discuss in more details about the intercept, coefficients, OLS etc in the next section"
   ]
  },
  {
   "cell_type": "code",
   "execution_count": null,
   "metadata": {},
   "outputs": [],
   "source": []
  },
  {
   "cell_type": "code",
   "execution_count": null,
   "metadata": {},
   "outputs": [],
   "source": []
  },
  {
   "cell_type": "code",
   "execution_count": null,
   "metadata": {},
   "outputs": [],
   "source": []
  },
  {
   "cell_type": "code",
   "execution_count": null,
   "metadata": {},
   "outputs": [],
   "source": []
  },
  {
   "cell_type": "markdown",
   "metadata": {},
   "source": [
    "## Generalized least square model : Additional (not necessary in class)"
   ]
  },
  {
   "cell_type": "code",
   "execution_count": 7,
   "metadata": {},
   "outputs": [],
   "source": [
    "ols_resid = sm.OLS(Y, X).fit().resid\n",
    "resid_X = ols_resid[:-1].values\n",
    "resid_Y = ols_resid[1:].values\n",
    "res_fit = sm.OLS(resid_Y, resid_X).fit()\n",
    "rho = res_fit.params"
   ]
  },
  {
   "cell_type": "code",
   "execution_count": 8,
   "metadata": {},
   "outputs": [],
   "source": [
    "from scipy.linalg import toeplitz\n",
    "order = toeplitz(np.arange(len(data)))\n",
    "sigma = rho**order"
   ]
  },
  {
   "cell_type": "code",
   "execution_count": 9,
   "metadata": {},
   "outputs": [
    {
     "name": "stdout",
     "output_type": "stream",
     "text": [
      "                            GLS Regression Results                            \n",
      "==============================================================================\n",
      "Dep. Variable:               TARGET_D   R-squared:                       0.273\n",
      "Model:                            GLS   Adj. R-squared:                  0.272\n",
      "Method:                 Least Squares   F-statistic:                     259.7\n",
      "Date:                Thu, 18 Jun 2020   Prob (F-statistic):               0.00\n",
      "Time:                        13:41:27   Log-Likelihood:                -18311.\n",
      "No. Observations:                4843   AIC:                         3.664e+04\n",
      "Df Residuals:                    4835   BIC:                         3.669e+04\n",
      "Df Model:                           7                                         \n",
      "Covariance Type:            nonrobust                                         \n",
      "==============================================================================\n",
      "                 coef    std err          t      P>|t|      [0.025      0.975]\n",
      "------------------------------------------------------------------------------\n",
      "const          6.1911      0.501     12.354      0.000       5.209       7.173\n",
      "HV1         8.881e-05      0.000      0.382      0.702      -0.000       0.001\n",
      "IC1           -0.0021      0.007     -0.317      0.751      -0.015       0.011\n",
      "IC2            0.0002      0.006      0.042      0.966      -0.011       0.011\n",
      "IC3           -0.0021      0.009     -0.239      0.811      -0.020       0.015\n",
      "IC4            0.0066      0.007      0.883      0.377      -0.008       0.021\n",
      "IC5         3.063e-05   3.55e-05      0.862      0.389    -3.9e-05       0.000\n",
      "AVGGIFT        0.6219      0.015     40.914      0.000       0.592       0.652\n",
      "==============================================================================\n",
      "Omnibus:                     3336.533   Durbin-Watson:                   2.000\n",
      "Prob(Omnibus):                  0.000   Jarque-Bera (JB):          4406006.812\n",
      "Skew:                           1.810   Prob(JB):                         0.00\n",
      "Kurtosis:                     150.720   Cond. No.                     6.42e+04\n",
      "==============================================================================\n",
      "\n",
      "Warnings:\n",
      "[1] Standard Errors assume that the covariance matrix of the errors is correctly specified.\n",
      "[2] The condition number is large, 6.42e+04. This might indicate that there are\n",
      "strong multicollinearity or other numerical problems.\n"
     ]
    }
   ],
   "source": [
    "gls_model = sm.GLS(Y, X, sigma=sigma).fit()\n",
    "print(gls_model.summary())"
   ]
  },
  {
   "cell_type": "code",
   "execution_count": null,
   "metadata": {},
   "outputs": [],
   "source": []
  },
  {
   "cell_type": "code",
   "execution_count": null,
   "metadata": {},
   "outputs": [],
   "source": []
  },
  {
   "cell_type": "markdown",
   "metadata": {},
   "source": [
    "# Lesson 4 "
   ]
  },
  {
   "cell_type": "code",
   "execution_count": 10,
   "metadata": {},
   "outputs": [
    {
     "data": {
      "image/png": "[encoded data removed]",
      "text/plain": [
       "<Figure size 720x576 with 2 Axes>"
      ]
     },
     "metadata": {
      "needs_background": "light"
     },
     "output_type": "display_data"
    }
   ],
   "source": [
    "correlations_matrix = data.corr()\n",
    "mask = np.zeros_like(correlations_matrix)\n",
    "mask[np.triu_indices_from(mask)] = True\n",
    "fig, ax = plt.subplots(figsize=(10, 8))\n",
    "ax = sns.heatmap(correlations_matrix, mask=mask, annot=True)\n",
    "plt.show()"
   ]
  },
  {
   "cell_type": "code",
   "execution_count": 11,
   "metadata": {},
   "outputs": [],
   "source": [
    "# We can see that there is a very strong positive correlation between IC1 and IC2, IC2 and IC3, IC3 and IC4\n",
    "# using the concept of multicollinearity, lets drop IC2, IC3 and IC4"
   ]
  },
  {
   "cell_type": "code",
   "execution_count": 12,
   "metadata": {},
   "outputs": [],
   "source": [
    "data = data.drop(['IC2', 'IC3', 'IC4'],axis=1)"
   ]
  },
  {
   "cell_type": "code",
   "execution_count": 13,
   "metadata": {},
   "outputs": [
    {
     "data": {
      "text/plain": [
       "Index(['HV1', 'IC1', 'IC5', 'AVGGIFT', 'TARGET_D'], dtype='object')"
      ]
     },
     "execution_count": 13,
     "metadata": {},
     "output_type": "execute_result"
    }
   ],
   "source": [
    "data.columns"
   ]
  },
  {
   "cell_type": "code",
   "execution_count": null,
   "metadata": {},
   "outputs": [],
   "source": []
  },
  {
   "cell_type": "code",
   "execution_count": null,
   "metadata": {},
   "outputs": [],
   "source": []
  },
  {
   "cell_type": "markdown",
   "metadata": {},
   "source": [
    "# Lesson 1.07 begins here"
   ]
  },
  {
   "cell_type": "code",
   "execution_count": null,
   "metadata": {},
   "outputs": [],
   "source": []
  },
  {
   "cell_type": "code",
   "execution_count": null,
   "metadata": {},
   "outputs": [],
   "source": []
  },
  {
   "cell_type": "markdown",
   "metadata": {},
   "source": [
    "## Lesson 1"
   ]
  },
  {
   "cell_type": "code",
   "execution_count": 14,
   "metadata": {},
   "outputs": [],
   "source": [
    "# check for normailty assumption and skewness using histograms and distribution plots \n",
    "# for the remaining variables"
   ]
  },
  {
   "cell_type": "code",
   "execution_count": 15,
   "metadata": {},
   "outputs": [
    {
     "data": {
      "image/png": "[encoded data removed]",
      "text/plain": [
       "<Figure size 432x288 with 1 Axes>"
      ]
     },
     "metadata": {
      "needs_background": "light"
     },
     "output_type": "display_data"
    }
   ],
   "source": [
    "data['HV1'].hist()\n",
    "plt.show()"
   ]
  },
  {
   "cell_type": "code",
   "execution_count": 16,
   "metadata": {},
   "outputs": [
    {
     "data": {
      "image/png": "[encoded data removed]",
      "text/plain": [
       "<Figure size 432x288 with 1 Axes>"
      ]
     },
     "metadata": {
      "needs_background": "light"
     },
     "output_type": "display_data"
    }
   ],
   "source": [
    "sns.distplot(data['HV1'])\n",
    "plt.show()"
   ]
  },
  {
   "cell_type": "code",
   "execution_count": 17,
   "metadata": {},
   "outputs": [
    {
     "data": {
      "image/png": "[encoded data removed]",
      "text/plain": [
       "<Figure size 432x288 with 1 Axes>"
      ]
     },
     "metadata": {
      "needs_background": "light"
     },
     "output_type": "display_data"
    }
   ],
   "source": [
    "sns.distplot(data['IC1'])\n",
    "plt.show()"
   ]
  },
  {
   "cell_type": "code",
   "execution_count": 18,
   "metadata": {},
   "outputs": [
    {
     "data": {
      "text/plain": [
       "<matplotlib.axes._subplots.AxesSubplot at 0x13875a400>"
      ]
     },
     "execution_count": 18,
     "metadata": {},
     "output_type": "execute_result"
    },
    {
     "data": {
      "image/png": "[encoded data removed]",
      "text/plain": [
       "<Figure size 432x288 with 1 Axes>"
      ]
     },
     "metadata": {
      "needs_background": "light"
     },
     "output_type": "display_data"
    }
   ],
   "source": [
    "sns.boxplot(x=data['IC1'])"
   ]
  },
  {
   "cell_type": "code",
   "execution_count": 19,
   "metadata": {},
   "outputs": [
    {
     "data": {
      "text/plain": [
       "count    4843.000000\n",
       "mean      352.831922\n",
       "std       171.357547\n",
       "min         0.000000\n",
       "25%       239.000000\n",
       "50%       318.000000\n",
       "75%       427.000000\n",
       "max      1500.000000\n",
       "Name: IC1, dtype: float64"
      ]
     },
     "execution_count": 19,
     "metadata": {},
     "output_type": "execute_result"
    }
   ],
   "source": [
    "data.describe()['IC1']"
   ]
  },
  {
   "cell_type": "code",
   "execution_count": 20,
   "metadata": {},
   "outputs": [],
   "source": [
    "iqr = np.percentile(data['IC1'],75) - np.percentile(data['IC1'],25)\n",
    "upper_limit = np.percentile(data['IC1'],75) + 1.5*iqr\n",
    "lower_limit = np.percentile(data['IC1'],25) - 1.5*iqr"
   ]
  },
  {
   "cell_type": "code",
   "execution_count": 21,
   "metadata": {},
   "outputs": [],
   "source": [
    "data = data[(data['IC1']>lower_limit) & (data['IC1']<upper_limit)]"
   ]
  },
  {
   "cell_type": "code",
   "execution_count": 22,
   "metadata": {},
   "outputs": [
    {
     "data": {
      "image/png": "[encoded data removed]",
      "text/plain": [
       "<Figure size 432x288 with 1 Axes>"
      ]
     },
     "metadata": {
      "needs_background": "light"
     },
     "output_type": "display_data"
    }
   ],
   "source": [
    "sns.distplot(data['IC1'])\n",
    "plt.show()"
   ]
  },
  {
   "cell_type": "code",
   "execution_count": null,
   "metadata": {},
   "outputs": [],
   "source": []
  },
  {
   "cell_type": "markdown",
   "metadata": {},
   "source": [
    "# Lesson 2"
   ]
  },
  {
   "cell_type": "code",
   "execution_count": 23,
   "metadata": {},
   "outputs": [],
   "source": [
    "# Transformations"
   ]
  },
  {
   "cell_type": "code",
   "execution_count": 24,
   "metadata": {},
   "outputs": [],
   "source": [
    "# Log transformation"
   ]
  },
  {
   "cell_type": "code",
   "execution_count": 25,
   "metadata": {},
   "outputs": [],
   "source": [
    "# Since some values might become -inf, we will have to filter those values. Remember we might not able \n",
    "# to use this method if there's too many such values, and if they are important"
   ]
  },
  {
   "cell_type": "code",
   "execution_count": 26,
   "metadata": {},
   "outputs": [],
   "source": [
    "# Code to test how the transformation will look like "
   ]
  },
  {
   "cell_type": "code",
   "execution_count": 27,
   "metadata": {},
   "outputs": [
    {
     "data": {
      "image/png": "[encoded data removed]",
      "text/plain": [
       "<Figure size 432x288 with 1 Axes>"
      ]
     },
     "metadata": {
      "needs_background": "light"
     },
     "output_type": "display_data"
    }
   ],
   "source": [
    "def log_transfom_clean(x):\n",
    "    x = np.log(x)\n",
    "    if np.isfinite(x):\n",
    "        return x\n",
    "    else:\n",
    "        return 0  # in the code to be used with dataframe, we will use np.NaN here \n",
    "HV1_log = list(map(log_transfom_clean, data['HV1']))\n",
    "sns.distplot(HV1_log)\n",
    "plt.show()"
   ]
  },
  {
   "cell_type": "code",
   "execution_count": null,
   "metadata": {},
   "outputs": [],
   "source": []
  },
  {
   "cell_type": "code",
   "execution_count": 28,
   "metadata": {},
   "outputs": [],
   "source": [
    "def log_transfom_clean_(x):\n",
    "    x = np.log(x)\n",
    "    if np.isfinite(x):\n",
    "        return x\n",
    "    else:\n",
    "        return np.NAN # We are returning NaNs so that we can replace them with means later   \n",
    "data['HV1_log'] = list(map(log_transfom_clean_, data['HV1']))"
   ]
  },
  {
   "cell_type": "code",
   "execution_count": 29,
   "metadata": {},
   "outputs": [],
   "source": [
    "data['HV1_log'] = data['HV1_log'].fillna(np.mean(data['HV1_log']))"
   ]
  },
  {
   "cell_type": "code",
   "execution_count": 30,
   "metadata": {},
   "outputs": [
    {
     "data": {
      "image/png": "[encoded data removed]",
      "text/plain": [
       "<Figure size 432x288 with 1 Axes>"
      ]
     },
     "metadata": {
      "needs_background": "light"
     },
     "output_type": "display_data"
    }
   ],
   "source": [
    "sns.distplot(data['HV1_log'])\n",
    "plt.show()"
   ]
  },
  {
   "cell_type": "code",
   "execution_count": 31,
   "metadata": {},
   "outputs": [
    {
     "data": {
      "text/html": [
       "<div>\n",
       "<style scoped>\n",
       "    .dataframe tbody tr th:only-of-type {\n",
       "        vertical-align: middle;\n",
       "    }\n",
       "\n",
       "    .dataframe tbody tr th {\n",
       "        vertical-align: top;\n",
       "    }\n",
       "\n",
       "    .dataframe thead th {\n",
       "        text-align: right;\n",
       "    }\n",
       "</style>\n",
       "<table border=\"1\" class=\"dataframe\">\n",
       "  <thead>\n",
       "    <tr style=\"text-align: right;\">\n",
       "      <th></th>\n",
       "      <th>IC1</th>\n",
       "      <th>IC5</th>\n",
       "      <th>AVGGIFT</th>\n",
       "      <th>TARGET_D</th>\n",
       "      <th>HV1_log</th>\n",
       "    </tr>\n",
       "  </thead>\n",
       "  <tbody>\n",
       "    <tr>\n",
       "      <th>0</th>\n",
       "      <td>420</td>\n",
       "      <td>14552</td>\n",
       "      <td>15.500000</td>\n",
       "      <td>21.0</td>\n",
       "      <td>7.760467</td>\n",
       "    </tr>\n",
       "    <tr>\n",
       "      <th>1</th>\n",
       "      <td>350</td>\n",
       "      <td>11696</td>\n",
       "      <td>3.080000</td>\n",
       "      <td>3.0</td>\n",
       "      <td>6.208590</td>\n",
       "    </tr>\n",
       "    <tr>\n",
       "      <th>2</th>\n",
       "      <td>469</td>\n",
       "      <td>17313</td>\n",
       "      <td>7.500000</td>\n",
       "      <td>20.0</td>\n",
       "      <td>7.113956</td>\n",
       "    </tr>\n",
       "    <tr>\n",
       "      <th>3</th>\n",
       "      <td>148</td>\n",
       "      <td>6334</td>\n",
       "      <td>6.700000</td>\n",
       "      <td>5.0</td>\n",
       "      <td>5.783825</td>\n",
       "    </tr>\n",
       "    <tr>\n",
       "      <th>4</th>\n",
       "      <td>174</td>\n",
       "      <td>7802</td>\n",
       "      <td>8.785714</td>\n",
       "      <td>10.0</td>\n",
       "      <td>6.643790</td>\n",
       "    </tr>\n",
       "  </tbody>\n",
       "</table>\n",
       "</div>"
      ],
      "text/plain": [
       "   IC1    IC5    AVGGIFT  TARGET_D   HV1_log\n",
       "0  420  14552  15.500000      21.0  7.760467\n",
       "1  350  11696   3.080000       3.0  6.208590\n",
       "2  469  17313   7.500000      20.0  7.113956\n",
       "3  148   6334   6.700000       5.0  5.783825\n",
       "4  174   7802   8.785714      10.0  6.643790"
      ]
     },
     "execution_count": 31,
     "metadata": {},
     "output_type": "execute_result"
    }
   ],
   "source": [
    "data = data.drop(['HV1'], axis=1)\n",
    "data.head()"
   ]
  },
  {
   "cell_type": "code",
   "execution_count": null,
   "metadata": {},
   "outputs": [],
   "source": []
  },
  {
   "cell_type": "markdown",
   "metadata": {},
   "source": [
    "# Lesson 3"
   ]
  },
  {
   "cell_type": "code",
   "execution_count": null,
   "metadata": {},
   "outputs": [],
   "source": []
  },
  {
   "cell_type": "code",
   "execution_count": 32,
   "metadata": {},
   "outputs": [],
   "source": [
    "# Box cox transformation"
   ]
  },
  {
   "cell_type": "code",
   "execution_count": 33,
   "metadata": {},
   "outputs": [],
   "source": [
    "# for using it in scipy, the data should be strictly positive. We will use it on 'IC1'. \n",
    "# since this is median house hold income , we can filter out negative values "
   ]
  },
  {
   "cell_type": "code",
   "execution_count": 34,
   "metadata": {},
   "outputs": [],
   "source": [
    "# len(data[data['IC1']<=0])  # number of such observations. \n",
    "# if you do not want to lose this data, replace it with the mean of the column"
   ]
  },
  {
   "cell_type": "code",
   "execution_count": 35,
   "metadata": {},
   "outputs": [],
   "source": [
    "data['IC1_'] = np.where(data['IC1']<=0,0,data['IC1'])\n",
    "# now calculate mean of the new column , exluding zeros in the count \n",
    "mean = np.sum(data['IC1_'])/len(data[data['IC1_']>0])\n",
    "data['IC1_'] = data['IC1_'].replace(0,mean)"
   ]
  },
  {
   "cell_type": "code",
   "execution_count": 36,
   "metadata": {},
   "outputs": [],
   "source": [
    "data = data.drop(['IC1'], axis=1)"
   ]
  },
  {
   "cell_type": "code",
   "execution_count": 37,
   "metadata": {},
   "outputs": [],
   "source": [
    "from scipy import stats\n",
    "xt, lmbda = stats.boxcox(data['IC1_'])"
   ]
  },
  {
   "cell_type": "code",
   "execution_count": 38,
   "metadata": {
    "scrolled": true
   },
   "outputs": [
    {
     "data": {
      "image/png": "[encoded data removed]",
      "text/plain": [
       "<Figure size 432x288 with 1 Axes>"
      ]
     },
     "metadata": {
      "needs_background": "light"
     },
     "output_type": "display_data"
    }
   ],
   "source": [
    "sns.distplot(xt)\n",
    "plt.show()"
   ]
  },
  {
   "cell_type": "code",
   "execution_count": 39,
   "metadata": {},
   "outputs": [],
   "source": [
    "# Repeat the same steps for column 'IC5'"
   ]
  },
  {
   "cell_type": "code",
   "execution_count": null,
   "metadata": {},
   "outputs": [],
   "source": []
  },
  {
   "cell_type": "code",
   "execution_count": 40,
   "metadata": {},
   "outputs": [],
   "source": [
    "# for box cox transformation, we can also use sklearn's preprocessing module. It will be introduced later"
   ]
  },
  {
   "cell_type": "code",
   "execution_count": 41,
   "metadata": {},
   "outputs": [
    {
     "data": {
      "text/html": [
       "<div>\n",
       "<style scoped>\n",
       "    .dataframe tbody tr th:only-of-type {\n",
       "        vertical-align: middle;\n",
       "    }\n",
       "\n",
       "    .dataframe tbody tr th {\n",
       "        vertical-align: top;\n",
       "    }\n",
       "\n",
       "    .dataframe thead th {\n",
       "        text-align: right;\n",
       "    }\n",
       "</style>\n",
       "<table border=\"1\" class=\"dataframe\">\n",
       "  <thead>\n",
       "    <tr style=\"text-align: right;\">\n",
       "      <th></th>\n",
       "      <th>IC5</th>\n",
       "      <th>AVGGIFT</th>\n",
       "      <th>TARGET_D</th>\n",
       "      <th>HV1_log</th>\n",
       "      <th>IC1_</th>\n",
       "    </tr>\n",
       "  </thead>\n",
       "  <tbody>\n",
       "    <tr>\n",
       "      <th>0</th>\n",
       "      <td>14552</td>\n",
       "      <td>15.500000</td>\n",
       "      <td>21.0</td>\n",
       "      <td>7.760467</td>\n",
       "      <td>420.0</td>\n",
       "    </tr>\n",
       "    <tr>\n",
       "      <th>1</th>\n",
       "      <td>11696</td>\n",
       "      <td>3.080000</td>\n",
       "      <td>3.0</td>\n",
       "      <td>6.208590</td>\n",
       "      <td>350.0</td>\n",
       "    </tr>\n",
       "    <tr>\n",
       "      <th>2</th>\n",
       "      <td>17313</td>\n",
       "      <td>7.500000</td>\n",
       "      <td>20.0</td>\n",
       "      <td>7.113956</td>\n",
       "      <td>469.0</td>\n",
       "    </tr>\n",
       "    <tr>\n",
       "      <th>3</th>\n",
       "      <td>6334</td>\n",
       "      <td>6.700000</td>\n",
       "      <td>5.0</td>\n",
       "      <td>5.783825</td>\n",
       "      <td>148.0</td>\n",
       "    </tr>\n",
       "    <tr>\n",
       "      <th>4</th>\n",
       "      <td>7802</td>\n",
       "      <td>8.785714</td>\n",
       "      <td>10.0</td>\n",
       "      <td>6.643790</td>\n",
       "      <td>174.0</td>\n",
       "    </tr>\n",
       "  </tbody>\n",
       "</table>\n",
       "</div>"
      ],
      "text/plain": [
       "     IC5    AVGGIFT  TARGET_D   HV1_log   IC1_\n",
       "0  14552  15.500000      21.0  7.760467  420.0\n",
       "1  11696   3.080000       3.0  6.208590  350.0\n",
       "2  17313   7.500000      20.0  7.113956  469.0\n",
       "3   6334   6.700000       5.0  5.783825  148.0\n",
       "4   7802   8.785714      10.0  6.643790  174.0"
      ]
     },
     "execution_count": 41,
     "metadata": {},
     "output_type": "execute_result"
    }
   ],
   "source": [
    "data.head()"
   ]
  },
  {
   "cell_type": "code",
   "execution_count": 42,
   "metadata": {},
   "outputs": [],
   "source": [
    "data['IC5_'] = np.where(data['IC5']<=0,0,data['IC5'])\n",
    "mean = np.sum(data['IC5_'])/len(data[data['IC5_']>0])\n",
    "data['IC5_'] = data['IC5_'].replace(0,mean)\n",
    "data = data.drop(['IC5'], axis=1)\n",
    "xt2, lmbda2 = stats.boxcox(data['IC5_'])"
   ]
  },
  {
   "cell_type": "code",
   "execution_count": 43,
   "metadata": {},
   "outputs": [
    {
     "data": {
      "text/html": [
       "<div>\n",
       "<style scoped>\n",
       "    .dataframe tbody tr th:only-of-type {\n",
       "        vertical-align: middle;\n",
       "    }\n",
       "\n",
       "    .dataframe tbody tr th {\n",
       "        vertical-align: top;\n",
       "    }\n",
       "\n",
       "    .dataframe thead th {\n",
       "        text-align: right;\n",
       "    }\n",
       "</style>\n",
       "<table border=\"1\" class=\"dataframe\">\n",
       "  <thead>\n",
       "    <tr style=\"text-align: right;\">\n",
       "      <th></th>\n",
       "      <th>AVGGIFT</th>\n",
       "      <th>TARGET_D</th>\n",
       "      <th>HV1_log</th>\n",
       "      <th>IC1_transformed</th>\n",
       "      <th>IC5_transformed</th>\n",
       "    </tr>\n",
       "  </thead>\n",
       "  <tbody>\n",
       "    <tr>\n",
       "      <th>0</th>\n",
       "      <td>15.500000</td>\n",
       "      <td>21.0</td>\n",
       "      <td>7.760467</td>\n",
       "      <td>17.343389</td>\n",
       "      <td>4.181353</td>\n",
       "    </tr>\n",
       "    <tr>\n",
       "      <th>1</th>\n",
       "      <td>3.080000</td>\n",
       "      <td>3.0</td>\n",
       "      <td>6.208590</td>\n",
       "      <td>16.230984</td>\n",
       "      <td>4.150313</td>\n",
       "    </tr>\n",
       "    <tr>\n",
       "      <th>2</th>\n",
       "      <td>7.500000</td>\n",
       "      <td>20.0</td>\n",
       "      <td>7.113956</td>\n",
       "      <td>18.047227</td>\n",
       "      <td>4.205057</td>\n",
       "    </tr>\n",
       "    <tr>\n",
       "      <th>3</th>\n",
       "      <td>6.700000</td>\n",
       "      <td>5.0</td>\n",
       "      <td>5.783825</td>\n",
       "      <td>11.737110</td>\n",
       "      <td>4.055333</td>\n",
       "    </tr>\n",
       "    <tr>\n",
       "      <th>4</th>\n",
       "      <td>8.785714</td>\n",
       "      <td>10.0</td>\n",
       "      <td>6.643790</td>\n",
       "      <td>12.494862</td>\n",
       "      <td>4.088969</td>\n",
       "    </tr>\n",
       "  </tbody>\n",
       "</table>\n",
       "</div>"
      ],
      "text/plain": [
       "     AVGGIFT  TARGET_D   HV1_log  IC1_transformed  IC5_transformed\n",
       "0  15.500000      21.0  7.760467        17.343389         4.181353\n",
       "1   3.080000       3.0  6.208590        16.230984         4.150313\n",
       "2   7.500000      20.0  7.113956        18.047227         4.205057\n",
       "3   6.700000       5.0  5.783825        11.737110         4.055333\n",
       "4   8.785714      10.0  6.643790        12.494862         4.088969"
      ]
     },
     "execution_count": 43,
     "metadata": {},
     "output_type": "execute_result"
    }
   ],
   "source": [
    "data['IC1_transformed'] = xt\n",
    "data['IC5_transformed'] = xt2\n",
    "data = data.drop(['IC1_', 'IC5_'], axis=1)\n",
    "data.head()"
   ]
  },
  {
   "cell_type": "code",
   "execution_count": 44,
   "metadata": {},
   "outputs": [],
   "source": [
    "Y = data['TARGET_D']\n",
    "X = data.drop(['TARGET_D'], axis=1)"
   ]
  },
  {
   "cell_type": "markdown",
   "metadata": {},
   "source": [
    "# Lesson 4"
   ]
  },
  {
   "cell_type": "code",
   "execution_count": null,
   "metadata": {},
   "outputs": [],
   "source": [
    "import pandas as pd\n",
    "import numpy as np\n",
    "pd.set_option('display.max_columns', None)\n",
    "import math\n",
    "import warnings\n",
    "warnings.filterwarnings('ignore')\n",
    "from sklearn import linear_model\n",
    "from sklearn.metrics import mean_squared_error, r2_score\n",
    "from sklearn.model_selection import train_test_split"
   ]
  },
  {
   "cell_type": "code",
   "execution_count": null,
   "metadata": {},
   "outputs": [],
   "source": [
    "data = pd.read_csv('regression_data.csv')\n",
    "data.head()"
   ]
  },
  {
   "cell_type": "code",
   "execution_count": null,
   "metadata": {},
   "outputs": [],
   "source": [
    "Y = data['TARGET_D']\n",
    "data = data.drop(['TARGET_D'], axis=1)"
   ]
  },
  {
   "cell_type": "code",
   "execution_count": null,
   "metadata": {},
   "outputs": [],
   "source": [
    "X_num = data.select_dtypes(include = np.number)\n",
    "X_cat = data.select_dtypes(include = np.object)"
   ]
  },
  {
   "cell_type": "code",
   "execution_count": null,
   "metadata": {},
   "outputs": [],
   "source": [
    "# Standardizing data "
   ]
  },
  {
   "cell_type": "code",
   "execution_count": null,
   "metadata": {},
   "outputs": [],
   "source": [
    "from sklearn.preprocessing import Normalizer\n",
    "transformer = Normalizer().fit(X_num)\n",
    "x_normalized = transformer.transform(X_num)\n",
    "print(x_normalized.shape)\n",
    "# pd.DataFrame(x_normalized)"
   ]
  },
  {
   "cell_type": "code",
   "execution_count": null,
   "metadata": {},
   "outputs": [],
   "source": [
    "from sklearn.preprocessing import StandardScaler\n",
    "transformer = StandardScaler().fit(X_num)\n",
    "x_standardized = transformer.transform(X_num)\n",
    "print(x_standardized.shape)\n",
    "# pd.DataFrame(x_standardized)"
   ]
  },
  {
   "cell_type": "code",
   "execution_count": null,
   "metadata": {},
   "outputs": [],
   "source": []
  },
  {
   "cell_type": "code",
   "execution_count": null,
   "metadata": {},
   "outputs": [],
   "source": []
  },
  {
   "cell_type": "code",
   "execution_count": null,
   "metadata": {},
   "outputs": [],
   "source": []
  },
  {
   "cell_type": "code",
   "execution_count": null,
   "metadata": {},
   "outputs": [],
   "source": []
  },
  {
   "cell_type": "code",
   "execution_count": null,
   "metadata": {},
   "outputs": [],
   "source": []
  },
  {
   "cell_type": "code",
   "execution_count": null,
   "metadata": {},
   "outputs": [],
   "source": []
  },
  {
   "cell_type": "code",
   "execution_count": null,
   "metadata": {},
   "outputs": [],
   "source": []
  },
  {
   "cell_type": "code",
   "execution_count": null,
   "metadata": {},
   "outputs": [],
   "source": []
  },
  {
   "cell_type": "code",
   "execution_count": null,
   "metadata": {},
   "outputs": [],
   "source": []
  },
  {
   "cell_type": "code",
   "execution_count": null,
   "metadata": {},
   "outputs": [],
   "source": []
  },
  {
   "cell_type": "code",
   "execution_count": null,
   "metadata": {},
   "outputs": [],
   "source": []
  },
  {
   "cell_type": "code",
   "execution_count": 45,
   "metadata": {},
   "outputs": [],
   "source": [
    "from sklearn.model_selection import train_test_split\n",
    "X_train, X_test, y_train, y_test = train_test_split(X, Y, test_size=0.4, random_state=100)"
   ]
  },
  {
   "cell_type": "code",
   "execution_count": 46,
   "metadata": {},
   "outputs": [
    {
     "data": {
      "text/plain": [
       "(2802, 4)"
      ]
     },
     "execution_count": 46,
     "metadata": {},
     "output_type": "execute_result"
    }
   ],
   "source": [
    "X_train.shape"
   ]
  },
  {
   "cell_type": "code",
   "execution_count": 47,
   "metadata": {},
   "outputs": [
    {
     "data": {
      "text/plain": [
       "(2802,)"
      ]
     },
     "execution_count": 47,
     "metadata": {},
     "output_type": "execute_result"
    }
   ],
   "source": [
    "y_train.shape"
   ]
  },
  {
   "cell_type": "code",
   "execution_count": 48,
   "metadata": {},
   "outputs": [
    {
     "data": {
      "text/html": [
       "<div>\n",
       "<style scoped>\n",
       "    .dataframe tbody tr th:only-of-type {\n",
       "        vertical-align: middle;\n",
       "    }\n",
       "\n",
       "    .dataframe tbody tr th {\n",
       "        vertical-align: top;\n",
       "    }\n",
       "\n",
       "    .dataframe thead th {\n",
       "        text-align: right;\n",
       "    }\n",
       "</style>\n",
       "<table border=\"1\" class=\"dataframe\">\n",
       "  <thead>\n",
       "    <tr style=\"text-align: right;\">\n",
       "      <th></th>\n",
       "      <th>AVGGIFT</th>\n",
       "      <th>HV1_log</th>\n",
       "      <th>IC1_transformed</th>\n",
       "      <th>IC5_transformed</th>\n",
       "    </tr>\n",
       "  </thead>\n",
       "  <tbody>\n",
       "    <tr>\n",
       "      <th>2642</th>\n",
       "      <td>9.142857</td>\n",
       "      <td>6.784457</td>\n",
       "      <td>20.608664</td>\n",
       "      <td>4.243596</td>\n",
       "    </tr>\n",
       "    <tr>\n",
       "      <th>1386</th>\n",
       "      <td>15.852941</td>\n",
       "      <td>6.857514</td>\n",
       "      <td>14.668599</td>\n",
       "      <td>4.177381</td>\n",
       "    </tr>\n",
       "    <tr>\n",
       "      <th>1443</th>\n",
       "      <td>5.700000</td>\n",
       "      <td>7.064759</td>\n",
       "      <td>13.423449</td>\n",
       "      <td>4.085420</td>\n",
       "    </tr>\n",
       "    <tr>\n",
       "      <th>2348</th>\n",
       "      <td>9.250000</td>\n",
       "      <td>6.675823</td>\n",
       "      <td>16.498038</td>\n",
       "      <td>4.176569</td>\n",
       "    </tr>\n",
       "    <tr>\n",
       "      <th>353</th>\n",
       "      <td>7.454545</td>\n",
       "      <td>6.817831</td>\n",
       "      <td>17.131851</td>\n",
       "      <td>4.172489</td>\n",
       "    </tr>\n",
       "  </tbody>\n",
       "</table>\n",
       "</div>"
      ],
      "text/plain": [
       "        AVGGIFT   HV1_log  IC1_transformed  IC5_transformed\n",
       "2642   9.142857  6.784457        20.608664         4.243596\n",
       "1386  15.852941  6.857514        14.668599         4.177381\n",
       "1443   5.700000  7.064759        13.423449         4.085420\n",
       "2348   9.250000  6.675823        16.498038         4.176569\n",
       "353    7.454545  6.817831        17.131851         4.172489"
      ]
     },
     "execution_count": 48,
     "metadata": {},
     "output_type": "execute_result"
    }
   ],
   "source": [
    "X_train.head()  # Check the index values, its randomized"
   ]
  },
  {
   "cell_type": "code",
   "execution_count": 51,
   "metadata": {},
   "outputs": [],
   "source": [
    "data.to_csv('regression_data.csv')"
   ]
  },
  {
   "cell_type": "code",
   "execution_count": null,
   "metadata": {},
   "outputs": [],
   "source": []
  }
 ],
 "metadata": {
  "kernelspec": {
   "display_name": "Python 3",
   "language": "python",
   "name": "python3"
  },
  "language_info": {
   "codemirror_mode": {
    "name": "ipython",
    "version": 3
   },
   "file_extension": ".py",
   "mimetype": "text/x-python",
   "name": "python",
   "nbconvert_exporter": "python",
   "pygments_lexer": "ipython3",
   "version": "3.7.3"
  }
 },
 "nbformat": 4,
 "nbformat_minor": 2
}
